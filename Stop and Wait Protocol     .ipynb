{
 "cells": [
  {
   "cell_type": "markdown",
   "metadata": {},
   "source": [
    "<h1> Stop and Wait Protocol </h1>"
   ]
  },
  {
   "cell_type": "markdown",
   "metadata": {},
   "source": [
    "<p><h3>Stop-and-wait ARQ, also referred to as alternating bit protocol, is a method in telecommunications to send information between two connected devices. It ensures that information is not lost due to dropped packets and that packets are received in the correct order. It is the simplest automatic repeat-request (ARQ) mechanism. A stop-and-wait ARQ sender sends one frame at a time; it is a special case of the general sliding window protocol with transmit and receive window sizes equal to one and greater than one respectively. After sending each frame, the sender doesn't send any further frames until it receives an acknowledgement (ACK) signal. After receiving a valid frame, the receiver sends an ACK. If the ACK does not reach the sender before a certain time, known as the timeout, the sender sends the same frame again. The timeout countdown is reset after each frame transmission. The above behavior is a basic example of Stop-and-Wait. However, real-life implementations vary to address certain issues of design.</h3></p>\n",
    "\n",
    "<p><h3>Typically the transmitter adds a redundancy check number to the end of each frame. The receiver uses the redundancy check number to check for possible damage. If the receiver sees that the frame is good, it sends an ACK. If the receiver sees that the frame is damaged, the receiver discards it and does not send an ACK—pretending that the frame was completely lost, not merely damaged.</h3><p>\n",
    "\n"
   ]
  },
  {
   "cell_type": "markdown",
   "metadata": {},
   "source": [
    "<img src=\"https://www.geeksforgeeks.org/wp-content/uploads/gq/2015/11/stopAndWaitARQ.png\">"
   ]
  },
  {
   "cell_type": "code",
   "execution_count": 2,
   "metadata": {},
   "outputs": [
    {
     "name": "stdout",
     "output_type": "stream",
     "text": [
      "\n",
      " SENDER: Frame 1 sent,waiting for ACK---\n",
      "\n",
      " RECEIVER : Frame 1 received, ACK sent\n",
      "\n",
      "-------------------------------------\n",
      "\n",
      " SENDER : ACk for frame 1 received \n",
      "\n",
      " SENDER: Frame 2 sent,waiting for ACK---\n",
      "\n",
      " RECEIVER : Frame 2 received, ACK sent\n",
      "\n",
      "-------------------------------------\n",
      "\n",
      " SENDER : ACk for frame 2 received \n",
      "\n",
      " SENDER: Frame 3 sent,waiting for ACK---\n",
      "\n",
      " RECEIVER : Frame 3 received, ACK sent\n",
      "\n",
      "-------------------------------------\n",
      "\n",
      " SENDER : ACk for frame 3 received \n",
      "\n",
      " SENDER: Frame 4 sent,waiting for ACK---\n",
      "\n",
      " RECEIVER : Frame 4 received, ACK sent\n",
      "\n",
      "-------------------------------------\n",
      "\n",
      " SENDER : ACk for frame 4 received \n",
      "\n",
      " SENDER: Frame 5 sent,waiting for ACK---\n",
      "\n",
      " RECEIVER : Frame 5 received, ACK sent\n",
      "\n",
      "-------------------------------------\n",
      "\n",
      " SENDER : ACk for frame 5 received \n",
      "\n",
      " SENDER: Frame 6 sent,waiting for ACK---\n",
      "\n",
      " RECEIVER : Frame 6 received, ACK sent\n",
      "\n",
      "-------------------------------------\n",
      "\n",
      " SENDER : ACk for frame 6 received \n",
      "\n",
      " SENDER: Frame 7 sent,waiting for ACK---\n",
      "\n",
      " RECEIVER : Frame 7 received, ACK sent\n",
      "\n",
      "-------------------------------------\n"
     ]
    }
   ],
   "source": [
    "#Stop and Wait Protocol\n",
    "import random\n",
    "import time\n",
    "total_frames = 7\n",
    "timeout = 4\n",
    "rtt = 4 #Round Trip Time\"\n",
    "acknowledgement = True\n",
    "wait_time = 0\n",
    "i = 1\n",
    "while(i<=total_frames):\n",
    "    if acknowledgement == True and i!=1:\n",
    "        print(\"\\n SENDER : ACk for frame %d received \" %(i-1))\n",
    "    print(\"\\n SENDER: Frame %d sent,waiting for ACK---\" %(i))\n",
    "    acknowledgement = False\n",
    "    wait_time = random.random() % 4 + 1\n",
    "    if(wait_time == timeout):\n",
    "        print(\"SENDER:ACK not received for frame %d => timeout resending frame---- \" %(i))\n",
    "    else:\n",
    "        time.sleep(rtt/2)\n",
    "        print(\"\\n RECEIVER : Frame %d received, ACK sent\\n\" %(i))\n",
    "        print(\"-------------------------------------\")\n",
    "        acknowledgement = True\n",
    "        time.sleep(rtt/2)\n",
    "        i = i + 1"
   ]
  }
 ],
 "metadata": {
  "kernelspec": {
   "display_name": "Python 3",
   "language": "python",
   "name": "python3"
  },
  "language_info": {
   "codemirror_mode": {
    "name": "ipython",
    "version": 3
   },
   "file_extension": ".py",
   "mimetype": "text/x-python",
   "name": "python",
   "nbconvert_exporter": "python",
   "pygments_lexer": "ipython3",
   "version": "3.6.4"
  }
 },
 "nbformat": 4,
 "nbformat_minor": 2
}
