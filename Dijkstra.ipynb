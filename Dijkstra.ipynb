{
 "cells": [
  {
   "cell_type": "markdown",
   "metadata": {},
   "source": [
    "<h1>Dijkstra Algorithm</h1>"
   ]
  },
  {
   "cell_type": "markdown",
   "metadata": {},
   "source": [
    "# Dijkstra's algorithm is an algorithm for finding the shortest paths between nodes in a graph, which may represent, for example, road networks. It was conceived by computer scientist Edsger W. Dijkstra in 1956 and published three years later.\n",
    "\n",
    "<h2>The algorithm exists in many variants; Dijkstra's original variant found the shortest path between two nodes, but a more common variant fixes a single node as the \"source\" node and finds shortest paths from the source to all other nodes in the graph, producing a shortest-path tree.\n",
    "\n",
    "For a given source node in the graph, the algorithm finds the shortest path between that node and every other. It can also be used for finding the shortest paths from a single node to a single destination node by stopping the algorithm once the shortest path to the destination node has been determined. For example, if the nodes of the graph represent cities and edge path costs represent driving distances between pairs of cities connected by a direct road, Dijkstra's algorithm can be used to find the shortest route between one city and all other cities. As a result, the shortest path algorithm is widely used in network routing protocols, most notably IS-IS (Intermediate System to Intermediate System) and Open Shortest Path First (OSPF). It is also employed as a subroutine in other algorithms such as Johnson's.<h2>\n"
   ]
  },
  {
   "cell_type": "markdown",
   "metadata": {},
   "source": [
    "<img src=\"https://upload.wikimedia.org/wikipedia/commons/5/57/Dijkstra_Animation.gif\">"
   ]
  },
  {
   "cell_type": "markdown",
   "metadata": {},
   "source": [
    "<h3> The above animation is an example of the Dijkstra's algorithm applied to a graph with nodes.</h3>"
   ]
  },
  {
   "cell_type": "code",
   "execution_count": null,
   "metadata": {},
   "outputs": [],
   "source": [
    "\n",
    "infinity = 99 #Node with infinte value implies the link is broken\n",
    "startnode = 0 #Initialize the startnode to zero\n",
    "\n",
    "#Number of rows and columns for the cost matrix(rows=columns) \n",
    "no_of_vertices = int(input(\"Enter the number of vertices  \\n\"))\n",
    "\n",
    "#Cost Matrix -> \n",
    #List Comprehension to initialize the 2D cost matrix with zeros \n",
    "cost_matrix = [[0 for j in range(no_of_vertices)] for i in range(no_of_vertices)] 
    "for i in range(no_of_vertices):\n",
    "    for j in range(no_of_vertices):\n",
    "        inp = int(input(\"enter the element\")) #Taking input from the user\n",
    "        cost_matrix[i][j] = inp\n",
    "        \n",
    "#A function to implement the algorithm\n",
    "def dijkstra(cost,nv):\n",
    "    pred = []\n",
    "    distance = []\n",
    "    visited = []\n",
    "    count = 0\n",
    "    nextnode = 0\n",
    "    mindistance = 0\n",
    "    for i in range(nv):\n",
    "        distance.append(cost[startnode][i])\n",
    "        pred.append(startnode)\n",
    "        visited.append(0)\n",
    "    distance[startnode] = 0\n",
    "    visited[startnode] = 1\n",
    "    count = 1\n",
    "    while(count < nv-1):\n",
    "        mindistance = infinity\n",
    "        for i in range(nv):\n",
    "            if distance[i]< mindistance and visited[i]==0:\n",
    "                mindistance = distance[i]\n",
    "                nextnode = i\n",
    "            visited[nextnode] = 1\n",
    "        for i in range(nv):\n",
    "            if visited[i]==0:\n",
    "                if mindistance + cost[nextnode][i] < distance[i]:\n",
    "                    distance[i] = mindistance + cost[nextnode][i]\n",
    "                    pred[i] = nextnode\n",
    "        count += 1\n",
    "    for i in range(nv):\n",
    "        if i != startnode:\n",
    "            print(\"\\nDistance of node %d = %d \" %(i,distance[i]))\n",
    "            print(\"\\nPath = %d\" %(i))\n",
    "            j = i\n",
    "            \n",
    "            #Do while loop\n",
    "            while(True):\n",
    "                j = pred[j]\n",
    "                print(\"<-%d\" %(j))\n",
    "                if j==startnode:\n",
    "                    break\n",
    "    \n",
    "                    \n",
    "            "
   ]
  },
  {
   "cell_type": "markdown",
   "metadata": {},
   "source": [
    "dijkstra(cost_matrix , no_of_vertices)"
   ]
  },
  {
   "cell_type": "code",
   "execution_count": 4,
   "metadata": {},
   "outputs": [
    {
     "name": "stdout",
     "output_type": "stream",
     "text": [
      "\n",
      "Distance of node 1 = 4 \n",
      "\n",
      "Path = 1\n",
      "<-0\n",
      "\n",
      "Distance of node 2 = 7 \n",
      "\n",
      "Path = 2\n",
      "<-1\n",
      "<-0\n",
      "\n",
      "Distance of node 3 = 8 \n",
      "\n",
      "Path = 3\n",
      "<-0\n",
      "\n",
      "Distance of node 4 = 15 \n",
      "\n",
      "Path = 4\n",
      "<-3\n",
      "<-0\n"
     ]
    }
   ],
   "source": [
    "dijkstra(cost_matrix , no_of_vertices)\n"
   ]
  },
  {
   "cell_type": "code",
   "execution_count": null,
   "metadata": {},
   "outputs": [],
   "source": []
  }
 ],
 "metadata": {
  "kernelspec": {
   "display_name": "Python 3",
   "language": "python",
   "name": "python3"
  },
  "language_info": {
   "codemirror_mode": {
    "name": "ipython",
    "version": 3
   },
   "file_extension": ".py",
   "mimetype": "text/x-python",
   "name": "python",
   "nbconvert_exporter": "python",
   "pygments_lexer": "ipython3",
   "version": "3.6.4"
  }
 },
 "nbformat": 4,
 "nbformat_minor": 2
}
